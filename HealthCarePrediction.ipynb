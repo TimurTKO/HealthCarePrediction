{
 "cells": [
  {
   "cell_type": "code",
   "execution_count": 1,
   "id": "initial_id",
   "metadata": {
    "collapsed": true,
    "ExecuteTime": {
     "end_time": "2024-01-31T19:10:38.947004900Z",
     "start_time": "2024-01-31T19:10:38.017095300Z"
    }
   },
   "outputs": [],
   "source": [
    "import pandas as pd\n",
    "import numpy as np\n",
    "import matplotlib.pyplot as plt\n",
    "from sklearn.impute import SimpleImputer\n",
    "from sklearn.preprocessing import StandardScaler\n",
    "from sklearn.model_selection import train_test_split, cross_val_score\n",
    "from sklearn.preprocessing import OneHotEncoder\n",
    "from sklearn.linear_model import LogisticRegression\n",
    "from sklearn.linear_model import LinearRegression, Lasso, Ridge, ElasticNet\n",
    "import sklearn\n",
    "sklearn.set_config(transform_output=\"pandas\")\n",
    "from sklearn.utils import compute_sample_weight\n",
    "#\n",
    "from sklearn.metrics import precision_recall_curve\n",
    "from sklearn.metrics import precision_score\n",
    "from sklearn.metrics import recall_score\n",
    "from sklearn.metrics import f1_score\n",
    "from sklearn.metrics import confusion_matrix\n",
    "from sklearn.linear_model import Ridge\n",
    "from sklearn import metrics\n",
    "from sklearn.metrics import accuracy_score\n",
    "from sklearn.base import BaseEstimator, TransformerMixin\n",
    "import seaborn as sns\n",
    "\n",
    "\n",
    "from sklearn.tree import DecisionTreeClassifier\n",
    "from sklearn.tree import plot_tree\n",
    "\n",
    "from sklearn.ensemble import RandomForestClassifier\n",
    "from sklearn.datasets import make_classification\n",
    "\n",
    "from sklearn.neighbors import KNeighborsClassifier\n",
    "\n",
    "from sklearn.preprocessing import RobustScaler\n",
    "\n",
    "from sklearn.cluster import KMeans\n",
    "\n",
    "from sklearn.ensemble import GradientBoostingClassifier\n",
    "\n",
    "from sklearn.svm import SVC\n",
    "\n",
    "import xgboost as xgb\n",
    "from xgboost import XGBRegressor, XGBClassifier\n",
    "\n",
    "from sklearn.pipeline import Pipeline\n",
    "\n",
    "from sklearn.compose import ColumnTransformer\n",
    "\n",
    "import optuna\n",
    "\n",
    "import mlflow\n",
    "\n",
    "import warnings\n",
    "\n",
    "warnings.simplefilter('ignore')\n",
    "\n",
    "import joblib\n",
    "\n",
    "from joblib import dump, load\n",
    "\n",
    "import requests\n",
    "\n",
    "client = mlflow.MlflowClient(tracking_uri=\"http://127.0.0.1:8083\")\n",
    "\n",
    "mlflow.set_tracking_uri(\"http://127.0.0.1:8083\")\n",
    "\n",
    "import requests\n",
    "\n",
    "from sklearn import impute\n",
    "\n",
    "from sklearn.impute import KNNImputer\n",
    "\n",
    "from sklearn.experimental import enable_iterative_imputer\n",
    "\n",
    "from sklearn.impute import IterativeImputer\n",
    "\n",
    "from imblearn.over_sampling import SMOTE\n",
    "\n",
    "from imblearn.pipeline import Pipeline\n",
    "\n",
    "from sklearn.preprocessing import LabelEncoder"
   ]
  },
  {
   "cell_type": "code",
   "outputs": [],
   "source": [
    "# Load data\n",
    "data = pd.read_csv(\"healthcare_dataset.csv\")"
   ],
   "metadata": {
    "collapsed": false,
    "ExecuteTime": {
     "end_time": "2024-01-31T19:10:40.699257500Z",
     "start_time": "2024-01-31T19:10:40.675416500Z"
    }
   },
   "id": "9837f280d14601e2",
   "execution_count": 2
  },
  {
   "cell_type": "code",
   "outputs": [
    {
     "data": {
      "text/plain": "                      Name  Age  Gender Blood Type Medical Condition  \\\n0          Tiffany Ramirez   81  Female         O-          Diabetes   \n1              Ruben Burns   35    Male         O+            Asthma   \n2                Chad Byrd   61    Male         B-           Obesity   \n3        Antonio Frederick   49    Male         B-            Asthma   \n4      Mrs. Brandy Flowers   51    Male         O-         Arthritis   \n...                    ...  ...     ...        ...               ...   \n9995            James Hood   83    Male         A+           Obesity   \n9996       Stephanie Evans   47  Female        AB+         Arthritis   \n9997  Christopher Martinez   54    Male         B-         Arthritis   \n9998           Amanda Duke   84    Male         A+         Arthritis   \n9999             Eric King   20    Male         B-         Arthritis   \n\n     Date of Admission             Doctor                   Hospital  \\\n0           2022-11-17     Patrick Parker           Wallace-Hamilton   \n1           2023-06-01      Diane Jackson  Burke, Griffin and Cooper   \n2           2019-01-09         Paul Baker                 Walton LLC   \n3           2020-05-02     Brian Chandler                 Garcia Ltd   \n4           2021-07-09     Dustin Griffin    Jones, Brown and Murray   \n...                ...                ...                        ...   \n9995        2022-07-29       Samuel Moody   Wood, Martin and Simmons   \n9996        2022-01-06  Christopher Yates               Nash-Krueger   \n9997        2022-07-01   Robert Nicholson            Larson and Sons   \n9998        2020-02-06        Jamie Lewis               Wilson-Lyons   \n9999        2023-03-22        Tasha Avila  Torres, Young and Stewart   \n\n     Insurance Provider  Billing Amount  Room Number Admission Type  \\\n0              Medicare    37490.983364          146       Elective   \n1      UnitedHealthcare    47304.064845          404      Emergency   \n2              Medicare    36874.896997          292      Emergency   \n3              Medicare    23303.322092          480         Urgent   \n4      UnitedHealthcare    18086.344184          477         Urgent   \n...                 ...             ...          ...            ...   \n9995   UnitedHealthcare    39606.840083          110       Elective   \n9996         Blue Cross     5995.717488          244      Emergency   \n9997         Blue Cross    49559.202905          312       Elective   \n9998   UnitedHealthcare    25236.344761          420         Urgent   \n9999              Aetna    37223.965865          290      Emergency   \n\n     Discharge Date   Medication  Test Results  \n0        2022-12-01      Aspirin  Inconclusive  \n1        2023-06-15      Lipitor        Normal  \n2        2019-02-08      Lipitor        Normal  \n3        2020-05-03   Penicillin      Abnormal  \n4        2021-08-02  Paracetamol        Normal  \n...             ...          ...           ...  \n9995     2022-08-02    Ibuprofen      Abnormal  \n9996     2022-01-29    Ibuprofen        Normal  \n9997     2022-07-15    Ibuprofen        Normal  \n9998     2020-02-26   Penicillin        Normal  \n9999     2023-04-15   Penicillin      Abnormal  \n\n[10000 rows x 15 columns]",
      "text/html": "<div>\n<style scoped>\n    .dataframe tbody tr th:only-of-type {\n        vertical-align: middle;\n    }\n\n    .dataframe tbody tr th {\n        vertical-align: top;\n    }\n\n    .dataframe thead th {\n        text-align: right;\n    }\n</style>\n<table border=\"1\" class=\"dataframe\">\n  <thead>\n    <tr style=\"text-align: right;\">\n      <th></th>\n      <th>Name</th>\n      <th>Age</th>\n      <th>Gender</th>\n      <th>Blood Type</th>\n      <th>Medical Condition</th>\n      <th>Date of Admission</th>\n      <th>Doctor</th>\n      <th>Hospital</th>\n      <th>Insurance Provider</th>\n      <th>Billing Amount</th>\n      <th>Room Number</th>\n      <th>Admission Type</th>\n      <th>Discharge Date</th>\n      <th>Medication</th>\n      <th>Test Results</th>\n    </tr>\n  </thead>\n  <tbody>\n    <tr>\n      <th>0</th>\n      <td>Tiffany Ramirez</td>\n      <td>81</td>\n      <td>Female</td>\n      <td>O-</td>\n      <td>Diabetes</td>\n      <td>2022-11-17</td>\n      <td>Patrick Parker</td>\n      <td>Wallace-Hamilton</td>\n      <td>Medicare</td>\n      <td>37490.983364</td>\n      <td>146</td>\n      <td>Elective</td>\n      <td>2022-12-01</td>\n      <td>Aspirin</td>\n      <td>Inconclusive</td>\n    </tr>\n    <tr>\n      <th>1</th>\n      <td>Ruben Burns</td>\n      <td>35</td>\n      <td>Male</td>\n      <td>O+</td>\n      <td>Asthma</td>\n      <td>2023-06-01</td>\n      <td>Diane Jackson</td>\n      <td>Burke, Griffin and Cooper</td>\n      <td>UnitedHealthcare</td>\n      <td>47304.064845</td>\n      <td>404</td>\n      <td>Emergency</td>\n      <td>2023-06-15</td>\n      <td>Lipitor</td>\n      <td>Normal</td>\n    </tr>\n    <tr>\n      <th>2</th>\n      <td>Chad Byrd</td>\n      <td>61</td>\n      <td>Male</td>\n      <td>B-</td>\n      <td>Obesity</td>\n      <td>2019-01-09</td>\n      <td>Paul Baker</td>\n      <td>Walton LLC</td>\n      <td>Medicare</td>\n      <td>36874.896997</td>\n      <td>292</td>\n      <td>Emergency</td>\n      <td>2019-02-08</td>\n      <td>Lipitor</td>\n      <td>Normal</td>\n    </tr>\n    <tr>\n      <th>3</th>\n      <td>Antonio Frederick</td>\n      <td>49</td>\n      <td>Male</td>\n      <td>B-</td>\n      <td>Asthma</td>\n      <td>2020-05-02</td>\n      <td>Brian Chandler</td>\n      <td>Garcia Ltd</td>\n      <td>Medicare</td>\n      <td>23303.322092</td>\n      <td>480</td>\n      <td>Urgent</td>\n      <td>2020-05-03</td>\n      <td>Penicillin</td>\n      <td>Abnormal</td>\n    </tr>\n    <tr>\n      <th>4</th>\n      <td>Mrs. Brandy Flowers</td>\n      <td>51</td>\n      <td>Male</td>\n      <td>O-</td>\n      <td>Arthritis</td>\n      <td>2021-07-09</td>\n      <td>Dustin Griffin</td>\n      <td>Jones, Brown and Murray</td>\n      <td>UnitedHealthcare</td>\n      <td>18086.344184</td>\n      <td>477</td>\n      <td>Urgent</td>\n      <td>2021-08-02</td>\n      <td>Paracetamol</td>\n      <td>Normal</td>\n    </tr>\n    <tr>\n      <th>...</th>\n      <td>...</td>\n      <td>...</td>\n      <td>...</td>\n      <td>...</td>\n      <td>...</td>\n      <td>...</td>\n      <td>...</td>\n      <td>...</td>\n      <td>...</td>\n      <td>...</td>\n      <td>...</td>\n      <td>...</td>\n      <td>...</td>\n      <td>...</td>\n      <td>...</td>\n    </tr>\n    <tr>\n      <th>9995</th>\n      <td>James Hood</td>\n      <td>83</td>\n      <td>Male</td>\n      <td>A+</td>\n      <td>Obesity</td>\n      <td>2022-07-29</td>\n      <td>Samuel Moody</td>\n      <td>Wood, Martin and Simmons</td>\n      <td>UnitedHealthcare</td>\n      <td>39606.840083</td>\n      <td>110</td>\n      <td>Elective</td>\n      <td>2022-08-02</td>\n      <td>Ibuprofen</td>\n      <td>Abnormal</td>\n    </tr>\n    <tr>\n      <th>9996</th>\n      <td>Stephanie Evans</td>\n      <td>47</td>\n      <td>Female</td>\n      <td>AB+</td>\n      <td>Arthritis</td>\n      <td>2022-01-06</td>\n      <td>Christopher Yates</td>\n      <td>Nash-Krueger</td>\n      <td>Blue Cross</td>\n      <td>5995.717488</td>\n      <td>244</td>\n      <td>Emergency</td>\n      <td>2022-01-29</td>\n      <td>Ibuprofen</td>\n      <td>Normal</td>\n    </tr>\n    <tr>\n      <th>9997</th>\n      <td>Christopher Martinez</td>\n      <td>54</td>\n      <td>Male</td>\n      <td>B-</td>\n      <td>Arthritis</td>\n      <td>2022-07-01</td>\n      <td>Robert Nicholson</td>\n      <td>Larson and Sons</td>\n      <td>Blue Cross</td>\n      <td>49559.202905</td>\n      <td>312</td>\n      <td>Elective</td>\n      <td>2022-07-15</td>\n      <td>Ibuprofen</td>\n      <td>Normal</td>\n    </tr>\n    <tr>\n      <th>9998</th>\n      <td>Amanda Duke</td>\n      <td>84</td>\n      <td>Male</td>\n      <td>A+</td>\n      <td>Arthritis</td>\n      <td>2020-02-06</td>\n      <td>Jamie Lewis</td>\n      <td>Wilson-Lyons</td>\n      <td>UnitedHealthcare</td>\n      <td>25236.344761</td>\n      <td>420</td>\n      <td>Urgent</td>\n      <td>2020-02-26</td>\n      <td>Penicillin</td>\n      <td>Normal</td>\n    </tr>\n    <tr>\n      <th>9999</th>\n      <td>Eric King</td>\n      <td>20</td>\n      <td>Male</td>\n      <td>B-</td>\n      <td>Arthritis</td>\n      <td>2023-03-22</td>\n      <td>Tasha Avila</td>\n      <td>Torres, Young and Stewart</td>\n      <td>Aetna</td>\n      <td>37223.965865</td>\n      <td>290</td>\n      <td>Emergency</td>\n      <td>2023-04-15</td>\n      <td>Penicillin</td>\n      <td>Abnormal</td>\n    </tr>\n  </tbody>\n</table>\n<p>10000 rows × 15 columns</p>\n</div>"
     },
     "execution_count": 3,
     "metadata": {},
     "output_type": "execute_result"
    }
   ],
   "source": [
    "data"
   ],
   "metadata": {
    "collapsed": false,
    "ExecuteTime": {
     "end_time": "2024-01-31T19:10:41.426286300Z",
     "start_time": "2024-01-31T19:10:41.394170800Z"
    }
   },
   "id": "738e6b62ad22a92f",
   "execution_count": 3
  },
  {
   "cell_type": "code",
   "outputs": [
    {
     "name": "stdout",
     "output_type": "stream",
     "text": [
      "<class 'pandas.core.frame.DataFrame'>\n",
      "RangeIndex: 10000 entries, 0 to 9999\n",
      "Data columns (total 15 columns):\n",
      " #   Column              Non-Null Count  Dtype  \n",
      "---  ------              --------------  -----  \n",
      " 0   Name                10000 non-null  object \n",
      " 1   Age                 10000 non-null  int64  \n",
      " 2   Gender              10000 non-null  object \n",
      " 3   Blood Type          10000 non-null  object \n",
      " 4   Medical Condition   10000 non-null  object \n",
      " 5   Date of Admission   10000 non-null  object \n",
      " 6   Doctor              10000 non-null  object \n",
      " 7   Hospital            10000 non-null  object \n",
      " 8   Insurance Provider  10000 non-null  object \n",
      " 9   Billing Amount      10000 non-null  float64\n",
      " 10  Room Number         10000 non-null  int64  \n",
      " 11  Admission Type      10000 non-null  object \n",
      " 12  Discharge Date      10000 non-null  object \n",
      " 13  Medication          10000 non-null  object \n",
      " 14  Test Results        10000 non-null  object \n",
      "dtypes: float64(1), int64(2), object(12)\n",
      "memory usage: 1.1+ MB\n"
     ]
    }
   ],
   "source": [
    "data.info()"
   ],
   "metadata": {
    "collapsed": false,
    "ExecuteTime": {
     "end_time": "2024-01-31T19:10:42.034765700Z",
     "start_time": "2024-01-31T19:10:42.015806900Z"
    }
   },
   "id": "2b6e3764401cb0fd",
   "execution_count": 4
  },
  {
   "cell_type": "code",
   "outputs": [
    {
     "data": {
      "text/plain": "                Age  Billing Amount   Room Number\ncount  10000.000000    10000.000000  10000.000000\nmean      51.452200    25516.806778    300.082000\nstd       19.588974    14067.292709    115.806027\nmin       18.000000     1000.180837    101.000000\n25%       35.000000    13506.523967    199.000000\n50%       52.000000    25258.112566    299.000000\n75%       68.000000    37733.913727    400.000000\nmax       85.000000    49995.902283    500.000000",
      "text/html": "<div>\n<style scoped>\n    .dataframe tbody tr th:only-of-type {\n        vertical-align: middle;\n    }\n\n    .dataframe tbody tr th {\n        vertical-align: top;\n    }\n\n    .dataframe thead th {\n        text-align: right;\n    }\n</style>\n<table border=\"1\" class=\"dataframe\">\n  <thead>\n    <tr style=\"text-align: right;\">\n      <th></th>\n      <th>Age</th>\n      <th>Billing Amount</th>\n      <th>Room Number</th>\n    </tr>\n  </thead>\n  <tbody>\n    <tr>\n      <th>count</th>\n      <td>10000.000000</td>\n      <td>10000.000000</td>\n      <td>10000.000000</td>\n    </tr>\n    <tr>\n      <th>mean</th>\n      <td>51.452200</td>\n      <td>25516.806778</td>\n      <td>300.082000</td>\n    </tr>\n    <tr>\n      <th>std</th>\n      <td>19.588974</td>\n      <td>14067.292709</td>\n      <td>115.806027</td>\n    </tr>\n    <tr>\n      <th>min</th>\n      <td>18.000000</td>\n      <td>1000.180837</td>\n      <td>101.000000</td>\n    </tr>\n    <tr>\n      <th>25%</th>\n      <td>35.000000</td>\n      <td>13506.523967</td>\n      <td>199.000000</td>\n    </tr>\n    <tr>\n      <th>50%</th>\n      <td>52.000000</td>\n      <td>25258.112566</td>\n      <td>299.000000</td>\n    </tr>\n    <tr>\n      <th>75%</th>\n      <td>68.000000</td>\n      <td>37733.913727</td>\n      <td>400.000000</td>\n    </tr>\n    <tr>\n      <th>max</th>\n      <td>85.000000</td>\n      <td>49995.902283</td>\n      <td>500.000000</td>\n    </tr>\n  </tbody>\n</table>\n</div>"
     },
     "execution_count": 5,
     "metadata": {},
     "output_type": "execute_result"
    }
   ],
   "source": [
    "data.describe()"
   ],
   "metadata": {
    "collapsed": false,
    "ExecuteTime": {
     "end_time": "2024-01-31T19:10:42.751460300Z",
     "start_time": "2024-01-31T19:10:42.740536600Z"
    }
   },
   "id": "72882eeea1afe605",
   "execution_count": 5
  },
  {
   "cell_type": "code",
   "outputs": [],
   "source": [
    "# Fit and transform the 'Test Results' column\n",
    "le = LabelEncoder()\n",
    "data['Test Results'] = le.fit_transform(data['Test Results'])"
   ],
   "metadata": {
    "collapsed": false,
    "ExecuteTime": {
     "end_time": "2024-01-31T19:10:43.447647300Z",
     "start_time": "2024-01-31T19:10:43.427602900Z"
    }
   },
   "id": "5ef5227437513221",
   "execution_count": 6
  },
  {
   "cell_type": "code",
   "outputs": [
    {
     "data": {
      "text/plain": "0       1\n1       2\n2       2\n3       0\n4       2\n       ..\n9995    0\n9996    2\n9997    2\n9998    2\n9999    0\nName: Test Results, Length: 10000, dtype: int32"
     },
     "execution_count": 7,
     "metadata": {},
     "output_type": "execute_result"
    }
   ],
   "source": [
    "y = data['Test Results']\n",
    "y"
   ],
   "metadata": {
    "collapsed": false,
    "ExecuteTime": {
     "end_time": "2024-01-31T19:10:44.228774300Z",
     "start_time": "2024-01-31T19:10:44.194250500Z"
    }
   },
   "id": "718164af643e74bf",
   "execution_count": 7
  },
  {
   "cell_type": "code",
   "outputs": [
    {
     "data": {
      "text/plain": "                      Name  Age  Gender Blood Type Medical Condition  \\\n0          Tiffany Ramirez   81  Female         O-          Diabetes   \n1              Ruben Burns   35    Male         O+            Asthma   \n2                Chad Byrd   61    Male         B-           Obesity   \n3        Antonio Frederick   49    Male         B-            Asthma   \n4      Mrs. Brandy Flowers   51    Male         O-         Arthritis   \n...                    ...  ...     ...        ...               ...   \n9995            James Hood   83    Male         A+           Obesity   \n9996       Stephanie Evans   47  Female        AB+         Arthritis   \n9997  Christopher Martinez   54    Male         B-         Arthritis   \n9998           Amanda Duke   84    Male         A+         Arthritis   \n9999             Eric King   20    Male         B-         Arthritis   \n\n     Date of Admission             Doctor                   Hospital  \\\n0           2022-11-17     Patrick Parker           Wallace-Hamilton   \n1           2023-06-01      Diane Jackson  Burke, Griffin and Cooper   \n2           2019-01-09         Paul Baker                 Walton LLC   \n3           2020-05-02     Brian Chandler                 Garcia Ltd   \n4           2021-07-09     Dustin Griffin    Jones, Brown and Murray   \n...                ...                ...                        ...   \n9995        2022-07-29       Samuel Moody   Wood, Martin and Simmons   \n9996        2022-01-06  Christopher Yates               Nash-Krueger   \n9997        2022-07-01   Robert Nicholson            Larson and Sons   \n9998        2020-02-06        Jamie Lewis               Wilson-Lyons   \n9999        2023-03-22        Tasha Avila  Torres, Young and Stewart   \n\n     Insurance Provider  Billing Amount  Room Number Admission Type  \\\n0              Medicare    37490.983364          146       Elective   \n1      UnitedHealthcare    47304.064845          404      Emergency   \n2              Medicare    36874.896997          292      Emergency   \n3              Medicare    23303.322092          480         Urgent   \n4      UnitedHealthcare    18086.344184          477         Urgent   \n...                 ...             ...          ...            ...   \n9995   UnitedHealthcare    39606.840083          110       Elective   \n9996         Blue Cross     5995.717488          244      Emergency   \n9997         Blue Cross    49559.202905          312       Elective   \n9998   UnitedHealthcare    25236.344761          420         Urgent   \n9999              Aetna    37223.965865          290      Emergency   \n\n     Discharge Date   Medication  \n0        2022-12-01      Aspirin  \n1        2023-06-15      Lipitor  \n2        2019-02-08      Lipitor  \n3        2020-05-03   Penicillin  \n4        2021-08-02  Paracetamol  \n...             ...          ...  \n9995     2022-08-02    Ibuprofen  \n9996     2022-01-29    Ibuprofen  \n9997     2022-07-15    Ibuprofen  \n9998     2020-02-26   Penicillin  \n9999     2023-04-15   Penicillin  \n\n[10000 rows x 14 columns]",
      "text/html": "<div>\n<style scoped>\n    .dataframe tbody tr th:only-of-type {\n        vertical-align: middle;\n    }\n\n    .dataframe tbody tr th {\n        vertical-align: top;\n    }\n\n    .dataframe thead th {\n        text-align: right;\n    }\n</style>\n<table border=\"1\" class=\"dataframe\">\n  <thead>\n    <tr style=\"text-align: right;\">\n      <th></th>\n      <th>Name</th>\n      <th>Age</th>\n      <th>Gender</th>\n      <th>Blood Type</th>\n      <th>Medical Condition</th>\n      <th>Date of Admission</th>\n      <th>Doctor</th>\n      <th>Hospital</th>\n      <th>Insurance Provider</th>\n      <th>Billing Amount</th>\n      <th>Room Number</th>\n      <th>Admission Type</th>\n      <th>Discharge Date</th>\n      <th>Medication</th>\n    </tr>\n  </thead>\n  <tbody>\n    <tr>\n      <th>0</th>\n      <td>Tiffany Ramirez</td>\n      <td>81</td>\n      <td>Female</td>\n      <td>O-</td>\n      <td>Diabetes</td>\n      <td>2022-11-17</td>\n      <td>Patrick Parker</td>\n      <td>Wallace-Hamilton</td>\n      <td>Medicare</td>\n      <td>37490.983364</td>\n      <td>146</td>\n      <td>Elective</td>\n      <td>2022-12-01</td>\n      <td>Aspirin</td>\n    </tr>\n    <tr>\n      <th>1</th>\n      <td>Ruben Burns</td>\n      <td>35</td>\n      <td>Male</td>\n      <td>O+</td>\n      <td>Asthma</td>\n      <td>2023-06-01</td>\n      <td>Diane Jackson</td>\n      <td>Burke, Griffin and Cooper</td>\n      <td>UnitedHealthcare</td>\n      <td>47304.064845</td>\n      <td>404</td>\n      <td>Emergency</td>\n      <td>2023-06-15</td>\n      <td>Lipitor</td>\n    </tr>\n    <tr>\n      <th>2</th>\n      <td>Chad Byrd</td>\n      <td>61</td>\n      <td>Male</td>\n      <td>B-</td>\n      <td>Obesity</td>\n      <td>2019-01-09</td>\n      <td>Paul Baker</td>\n      <td>Walton LLC</td>\n      <td>Medicare</td>\n      <td>36874.896997</td>\n      <td>292</td>\n      <td>Emergency</td>\n      <td>2019-02-08</td>\n      <td>Lipitor</td>\n    </tr>\n    <tr>\n      <th>3</th>\n      <td>Antonio Frederick</td>\n      <td>49</td>\n      <td>Male</td>\n      <td>B-</td>\n      <td>Asthma</td>\n      <td>2020-05-02</td>\n      <td>Brian Chandler</td>\n      <td>Garcia Ltd</td>\n      <td>Medicare</td>\n      <td>23303.322092</td>\n      <td>480</td>\n      <td>Urgent</td>\n      <td>2020-05-03</td>\n      <td>Penicillin</td>\n    </tr>\n    <tr>\n      <th>4</th>\n      <td>Mrs. Brandy Flowers</td>\n      <td>51</td>\n      <td>Male</td>\n      <td>O-</td>\n      <td>Arthritis</td>\n      <td>2021-07-09</td>\n      <td>Dustin Griffin</td>\n      <td>Jones, Brown and Murray</td>\n      <td>UnitedHealthcare</td>\n      <td>18086.344184</td>\n      <td>477</td>\n      <td>Urgent</td>\n      <td>2021-08-02</td>\n      <td>Paracetamol</td>\n    </tr>\n    <tr>\n      <th>...</th>\n      <td>...</td>\n      <td>...</td>\n      <td>...</td>\n      <td>...</td>\n      <td>...</td>\n      <td>...</td>\n      <td>...</td>\n      <td>...</td>\n      <td>...</td>\n      <td>...</td>\n      <td>...</td>\n      <td>...</td>\n      <td>...</td>\n      <td>...</td>\n    </tr>\n    <tr>\n      <th>9995</th>\n      <td>James Hood</td>\n      <td>83</td>\n      <td>Male</td>\n      <td>A+</td>\n      <td>Obesity</td>\n      <td>2022-07-29</td>\n      <td>Samuel Moody</td>\n      <td>Wood, Martin and Simmons</td>\n      <td>UnitedHealthcare</td>\n      <td>39606.840083</td>\n      <td>110</td>\n      <td>Elective</td>\n      <td>2022-08-02</td>\n      <td>Ibuprofen</td>\n    </tr>\n    <tr>\n      <th>9996</th>\n      <td>Stephanie Evans</td>\n      <td>47</td>\n      <td>Female</td>\n      <td>AB+</td>\n      <td>Arthritis</td>\n      <td>2022-01-06</td>\n      <td>Christopher Yates</td>\n      <td>Nash-Krueger</td>\n      <td>Blue Cross</td>\n      <td>5995.717488</td>\n      <td>244</td>\n      <td>Emergency</td>\n      <td>2022-01-29</td>\n      <td>Ibuprofen</td>\n    </tr>\n    <tr>\n      <th>9997</th>\n      <td>Christopher Martinez</td>\n      <td>54</td>\n      <td>Male</td>\n      <td>B-</td>\n      <td>Arthritis</td>\n      <td>2022-07-01</td>\n      <td>Robert Nicholson</td>\n      <td>Larson and Sons</td>\n      <td>Blue Cross</td>\n      <td>49559.202905</td>\n      <td>312</td>\n      <td>Elective</td>\n      <td>2022-07-15</td>\n      <td>Ibuprofen</td>\n    </tr>\n    <tr>\n      <th>9998</th>\n      <td>Amanda Duke</td>\n      <td>84</td>\n      <td>Male</td>\n      <td>A+</td>\n      <td>Arthritis</td>\n      <td>2020-02-06</td>\n      <td>Jamie Lewis</td>\n      <td>Wilson-Lyons</td>\n      <td>UnitedHealthcare</td>\n      <td>25236.344761</td>\n      <td>420</td>\n      <td>Urgent</td>\n      <td>2020-02-26</td>\n      <td>Penicillin</td>\n    </tr>\n    <tr>\n      <th>9999</th>\n      <td>Eric King</td>\n      <td>20</td>\n      <td>Male</td>\n      <td>B-</td>\n      <td>Arthritis</td>\n      <td>2023-03-22</td>\n      <td>Tasha Avila</td>\n      <td>Torres, Young and Stewart</td>\n      <td>Aetna</td>\n      <td>37223.965865</td>\n      <td>290</td>\n      <td>Emergency</td>\n      <td>2023-04-15</td>\n      <td>Penicillin</td>\n    </tr>\n  </tbody>\n</table>\n<p>10000 rows × 14 columns</p>\n</div>"
     },
     "execution_count": 8,
     "metadata": {},
     "output_type": "execute_result"
    }
   ],
   "source": [
    "X = data.drop(['Test Results'], axis=1)\n",
    "X"
   ],
   "metadata": {
    "collapsed": false,
    "ExecuteTime": {
     "end_time": "2024-01-31T19:10:45.025542400Z",
     "start_time": "2024-01-31T19:10:45.002912200Z"
    }
   },
   "id": "226b5a48785817ab",
   "execution_count": 8
  },
  {
   "cell_type": "code",
   "outputs": [],
   "source": [
    "X_train, X_test, y_train, y_test = train_test_split(X, y, test_size=0.2)"
   ],
   "metadata": {
    "collapsed": false,
    "ExecuteTime": {
     "end_time": "2024-01-31T19:10:45.715027800Z",
     "start_time": "2024-01-31T19:10:45.703832400Z"
    }
   },
   "id": "b32167da5470f48e",
   "execution_count": 9
  },
  {
   "cell_type": "markdown",
   "source": [],
   "metadata": {
    "collapsed": false
   },
   "id": "b448098ec53e52aa"
  },
  {
   "cell_type": "code",
   "outputs": [
    {
     "data": {
      "text/plain": "['Age', 'Billing Amount', 'Room Number']"
     },
     "execution_count": 10,
     "metadata": {},
     "output_type": "execute_result"
    }
   ],
   "source": [
    "num_cols= list(X_train.select_dtypes(exclude=['object']).columns)\n",
    "num_cols"
   ],
   "metadata": {
    "collapsed": false,
    "ExecuteTime": {
     "end_time": "2024-01-31T19:10:47.915125700Z",
     "start_time": "2024-01-31T19:10:47.891310600Z"
    }
   },
   "id": "f8b9a7051f804163",
   "execution_count": 10
  },
  {
   "cell_type": "code",
   "outputs": [
    {
     "data": {
      "text/plain": "['Name',\n 'Gender',\n 'Blood Type',\n 'Medical Condition',\n 'Date of Admission',\n 'Doctor',\n 'Hospital',\n 'Insurance Provider',\n 'Admission Type',\n 'Discharge Date',\n 'Medication']"
     },
     "execution_count": 11,
     "metadata": {},
     "output_type": "execute_result"
    }
   ],
   "source": [
    "cat_cols = list(X_train.select_dtypes(include=['object']).columns)\n",
    "cat_cols"
   ],
   "metadata": {
    "collapsed": false,
    "ExecuteTime": {
     "end_time": "2024-01-31T19:10:48.502753700Z",
     "start_time": "2024-01-31T19:10:48.480778500Z"
    }
   },
   "id": "884f80604c6d9c76",
   "execution_count": 11
  },
  {
   "cell_type": "code",
   "outputs": [],
   "source": [
    "model = XGBClassifier()"
   ],
   "metadata": {
    "collapsed": false,
    "ExecuteTime": {
     "end_time": "2024-01-31T19:10:49.134822Z",
     "start_time": "2024-01-31T19:10:49.120011Z"
    }
   },
   "id": "3803db3ede79b8a1",
   "execution_count": 12
  },
  {
   "cell_type": "code",
   "outputs": [],
   "source": [
    "# write a pipline for the model with smote\n",
    "\n",
    "\n",
    "numerical = Pipeline(steps=[\n",
    "    (\"simple_imputer\", SimpleImputer()),\n",
    "    #(\"Imputer\", KNNImputer()),\n",
    "    #(\"SMOTE\", SMOTE(sampling_strategy=desired_minority_ratio)),\n",
    "    ('Scaler', StandardScaler())\n",
    "])\n",
    "\n",
    "categorical = Pipeline(steps=[\n",
    "    (\"simple_imputer\", SimpleImputer(strategy='constant')),\n",
    "    (\"OneHotEncoder\", OneHotEncoder(handle_unknown='ignore', #drop=['first', 'if_binary'],\n",
    "                                    sparse_output=False))\n",
    "])\n",
    "\n",
    "ct = ColumnTransformer([\n",
    "    (\"numerical\", numerical, num_cols),\n",
    "    (\"categorical\", categorical, cat_cols)\n",
    "], remainder = 'passthrough')\n",
    "\n",
    "\n",
    "pipe = Pipeline(steps=[\n",
    "    (\"ct\", ct),\n",
    "    (\"SMOTE\", SMOTE()),\n",
    "    (\"Imputer\", KNNImputer()),\n",
    "    (\"XGBClassifier\", XGBClassifier())\n",
    "])\n",
    "    "
   ],
   "metadata": {
    "collapsed": false,
    "ExecuteTime": {
     "end_time": "2024-01-31T19:10:49.657972300Z",
     "start_time": "2024-01-31T19:10:49.649266200Z"
    }
   },
   "id": "e3122690c627b4d9",
   "execution_count": 13
  },
  {
   "cell_type": "code",
   "outputs": [],
   "source": [
    "counter = 0"
   ],
   "metadata": {
    "collapsed": false,
    "ExecuteTime": {
     "end_time": "2024-01-31T19:10:50.685207400Z",
     "start_time": "2024-01-31T19:10:50.669205200Z"
    }
   },
   "id": "548b5efc6cb232a0",
   "execution_count": 14
  },
  {
   "cell_type": "code",
   "outputs": [
    {
     "name": "stderr",
     "output_type": "stream",
     "text": [
      "[I 2024-01-31 22:10:51,381] A new study created in memory with name: no-name-6a59c6c9-9d1a-40ff-b502-1a5161879776\n",
      "[I 2024-01-31 22:12:16,661] Trial 0 finished with value: 0.16995776301550503 and parameters: {'Imputer': 'simple_imputer', 'XGBClassifier__n_estimators': 18, 'XGBClassifier__learning_rate': 0.03801089370958971, 'XGBClassifier__max_depth': 12, 'XGBClassifier__gamma': 6}. Best is trial 0 with value: 0.16995776301550503.\n",
      "[I 2024-01-31 22:13:56,810] Trial 1 finished with value: 0.1699419194481813 and parameters: {'Imputer': 'simple_imputer', 'XGBClassifier__n_estimators': 61, 'XGBClassifier__learning_rate': 0.09541333699502208, 'XGBClassifier__max_depth': 11, 'XGBClassifier__gamma': 6}. Best is trial 0 with value: 0.16995776301550503.\n",
      "[I 2024-01-31 22:15:43,173] Trial 2 finished with value: 0.2299563766608797 and parameters: {'Imputer': 'simple_imputer', 'XGBClassifier__n_estimators': 71, 'XGBClassifier__learning_rate': 0.02205875315543029, 'XGBClassifier__max_depth': 8, 'XGBClassifier__gamma': 3}. Best is trial 2 with value: 0.2299563766608797.\n",
      "[I 2024-01-31 22:16:57,816] Trial 3 finished with value: 0.2347138563251688 and parameters: {'Imputer': 'KNNImputer', 'XGBClassifier__n_estimators': 6, 'XGBClassifier__learning_rate': 0.021775561677476706, 'XGBClassifier__max_depth': 10, 'XGBClassifier__gamma': 3}. Best is trial 3 with value: 0.2347138563251688.\n"
     ]
    }
   ],
   "source": [
    "counter += 1\n",
    "def gridsearch_replacment(trial):\n",
    "    list_of_imputers = ['simple_imputer', 'KNNImputer', 'IterativeImputer']\n",
    "    list_of_imputer_object = [SimpleImputer(), KNNImputer(), IterativeImputer()]\n",
    "    imputer_name = trial.suggest_categorical('Imputer', list_of_imputers)\n",
    "    pipe.set_params(**{'Imputer': list_of_imputer_object[list_of_imputers.index(imputer_name)]})\n",
    "\n",
    "    #print(imputer_name)\n",
    "    params = {\n",
    "        'XGBClassifier__n_estimators': trial.suggest_int('XGBClassifier__n_estimators', 1, 100) ,\n",
    "        'XGBClassifier__learning_rate': trial.suggest_float('XGBClassifier__learning_rate', 0.01, 0.1),\n",
    "        'XGBClassifier__max_depth': trial.suggest_int('XGBClassifier__max_depth', 5, 15),\n",
    "        'XGBClassifier__gamma': trial.suggest_int('XGBClassifier__gamma', 1, 6),\n",
    "\n",
    "    }\n",
    "\n",
    "    pipe.set_params(**params)\n",
    "    #score = cross_val_score(pipe, X_train, y_train, cv=5, scoring = make_scorer(f1_score, average='macro')).mean()\n",
    "    score = cross_val_score(pipe, X_train, y_train, cv=5, scoring = 'f1_macro').mean()\n",
    "    return score\n",
    "\n",
    "study = optuna.create_study(direction='maximize')\n",
    "study.optimize(gridsearch_replacment, n_trials=100)"
   ],
   "metadata": {
    "collapsed": false,
    "is_executing": true,
    "ExecuteTime": {
     "start_time": "2024-01-31T19:10:51.383654800Z"
    }
   },
   "id": "15af404a73530045",
   "execution_count": null
  },
  {
   "cell_type": "code",
   "outputs": [],
   "source": [
    "# study best value\n",
    "study.best_value"
   ],
   "metadata": {
    "collapsed": false,
    "is_executing": true
   },
   "id": "470958a44dc951e2"
  },
  {
   "cell_type": "code",
   "outputs": [],
   "source": [
    "#Now lets create an MLFlow experiment\n",
    "with mlflow.start_run(run_name=f'{counter}_experiment'): # Add MLflow\n",
    "    st_b = study.best_params\n",
    "    mlflow.log_params(st_b)\n",
    "    stud_bv = study.best_value\n",
    "    #mlflow.log_metric('f1_macro_cv5', stud_bv)\n",
    "\n",
    "    pipe.set_params(**st_b)\n",
    "    pipe.fit(X_train, y_train)\n",
    "    mlflow.sklearn.log_model(pipe,'best_model_metrics')\n",
    "\n",
    "    pred_test = pipe.predict(X_test)\n",
    "    f1_test = f1_score(pred_test, y_test, average='macro')\n",
    "    #mlflow.log_metric('f1_score_macro', f1_test)\n",
    "\n",
    "    log_sum = {'f1_macro_cv5': stud_bv,\n",
    "               'f1_score_macro': f1_test}\n",
    "\n",
    "    mlflow.log_metrics(log_sum)"
   ],
   "metadata": {
    "collapsed": false
   },
   "id": "4981b46ec7587ad5"
  }
 ],
 "metadata": {
  "kernelspec": {
   "display_name": "Python 3",
   "language": "python",
   "name": "python3"
  },
  "language_info": {
   "codemirror_mode": {
    "name": "ipython",
    "version": 2
   },
   "file_extension": ".py",
   "mimetype": "text/x-python",
   "name": "python",
   "nbconvert_exporter": "python",
   "pygments_lexer": "ipython2",
   "version": "2.7.6"
  }
 },
 "nbformat": 4,
 "nbformat_minor": 5
}
