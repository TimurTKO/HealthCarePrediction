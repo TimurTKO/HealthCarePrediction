{
 "cells": [
  {
   "cell_type": "code",
   "execution_count": 5,
   "id": "initial_id",
   "metadata": {
    "collapsed": true,
    "ExecuteTime": {
     "end_time": "2024-01-29T19:01:30.763483600Z",
     "start_time": "2024-01-29T19:01:30.727791Z"
    }
   },
   "outputs": [],
   "source": [
    "import pandas as pd\n",
    "import numpy as np\n",
    "import matplotlib.pyplot as plt\n",
    "from sklearn.impute import SimpleImputer\n",
    "from sklearn.preprocessing import StandardScaler\n",
    "from sklearn.model_selection import train_test_split, cross_val_score\n",
    "from sklearn.preprocessing import OneHotEncoder\n",
    "from sklearn.linear_model import LogisticRegression\n",
    "from sklearn.linear_model import LinearRegression, Lasso, Ridge, ElasticNet\n",
    "import sklearn\n",
    "sklearn.set_config(transform_output=\"pandas\")\n",
    "from sklearn.utils import compute_sample_weight\n",
    "#\n",
    "from sklearn.metrics import precision_recall_curve\n",
    "from sklearn.metrics import precision_score\n",
    "from sklearn.metrics import recall_score\n",
    "from sklearn.metrics import f1_score\n",
    "from sklearn.metrics import confusion_matrix\n",
    "from sklearn.linear_model import Ridge\n",
    "from sklearn import metrics\n",
    "from sklearn.metrics import accuracy_score\n",
    "from sklearn.base import BaseEstimator, TransformerMixin\n",
    "import seaborn as sns\n",
    "\n",
    "\n",
    "from sklearn.tree import DecisionTreeClassifier\n",
    "from sklearn.tree import plot_tree\n",
    "\n",
    "from sklearn.ensemble import RandomForestClassifier\n",
    "from sklearn.datasets import make_classification\n",
    "\n",
    "from sklearn.neighbors import KNeighborsClassifier\n",
    "\n",
    "from sklearn.preprocessing import RobustScaler\n",
    "\n",
    "from sklearn.cluster import KMeans\n",
    "\n",
    "from sklearn.ensemble import GradientBoostingClassifier\n",
    "\n",
    "from sklearn.svm import SVC\n",
    "\n",
    "import xgboost as xgb\n",
    "from xgboost import XGBRegressor, XGBClassifier\n",
    "\n",
    "from sklearn.pipeline import Pipeline\n",
    "\n",
    "from sklearn.compose import ColumnTransformer\n",
    "\n",
    "import optuna\n",
    "\n",
    "import mlflow\n",
    "\n",
    "import warnings\n",
    "\n",
    "warnings.simplefilter('ignore')\n",
    "\n",
    "import joblib\n",
    "\n",
    "from joblib import dump, load\n",
    "\n",
    "import requests\n",
    "\n",
    "client = mlflow.MlflowClient(tracking_uri=\"http://127.0.0.1:8083\")\n",
    "\n",
    "mlflow.set_tracking_uri(\"http://127.0.0.1:8083\")\n",
    "\n",
    "import requests\n",
    "\n",
    "from sklearn import impute\n",
    "\n",
    "from sklearn.impute import KNNImputer\n",
    "\n",
    "from sklearn.experimental import enable_iterative_imputer\n",
    "\n",
    "from sklearn.impute import IterativeImputer\n",
    "\n",
    "from imblearn.over_sampling import SMOTE\n",
    "\n",
    "from imblearn.pipeline import Pipeline"
   ]
  },
  {
   "cell_type": "code",
   "outputs": [],
   "source": [
    "# Load data\n",
    "data = pd.read_csv(\"healthcare_dataset.csv\")"
   ],
   "metadata": {
    "collapsed": false,
    "ExecuteTime": {
     "end_time": "2024-01-29T19:01:32.611393100Z",
     "start_time": "2024-01-29T19:01:32.574393700Z"
    }
   },
   "id": "9837f280d14601e2",
   "execution_count": 6
  },
  {
   "cell_type": "code",
   "outputs": [
    {
     "data": {
      "text/plain": "                      Name  Age  Gender Blood Type Medical Condition  \\\n0          Tiffany Ramirez   81  Female         O-          Diabetes   \n1              Ruben Burns   35    Male         O+            Asthma   \n2                Chad Byrd   61    Male         B-           Obesity   \n3        Antonio Frederick   49    Male         B-            Asthma   \n4      Mrs. Brandy Flowers   51    Male         O-         Arthritis   \n...                    ...  ...     ...        ...               ...   \n9995            James Hood   83    Male         A+           Obesity   \n9996       Stephanie Evans   47  Female        AB+         Arthritis   \n9997  Christopher Martinez   54    Male         B-         Arthritis   \n9998           Amanda Duke   84    Male         A+         Arthritis   \n9999             Eric King   20    Male         B-         Arthritis   \n\n     Date of Admission             Doctor                   Hospital  \\\n0           2022-11-17     Patrick Parker           Wallace-Hamilton   \n1           2023-06-01      Diane Jackson  Burke, Griffin and Cooper   \n2           2019-01-09         Paul Baker                 Walton LLC   \n3           2020-05-02     Brian Chandler                 Garcia Ltd   \n4           2021-07-09     Dustin Griffin    Jones, Brown and Murray   \n...                ...                ...                        ...   \n9995        2022-07-29       Samuel Moody   Wood, Martin and Simmons   \n9996        2022-01-06  Christopher Yates               Nash-Krueger   \n9997        2022-07-01   Robert Nicholson            Larson and Sons   \n9998        2020-02-06        Jamie Lewis               Wilson-Lyons   \n9999        2023-03-22        Tasha Avila  Torres, Young and Stewart   \n\n     Insurance Provider  Billing Amount  Room Number Admission Type  \\\n0              Medicare    37490.983364          146       Elective   \n1      UnitedHealthcare    47304.064845          404      Emergency   \n2              Medicare    36874.896997          292      Emergency   \n3              Medicare    23303.322092          480         Urgent   \n4      UnitedHealthcare    18086.344184          477         Urgent   \n...                 ...             ...          ...            ...   \n9995   UnitedHealthcare    39606.840083          110       Elective   \n9996         Blue Cross     5995.717488          244      Emergency   \n9997         Blue Cross    49559.202905          312       Elective   \n9998   UnitedHealthcare    25236.344761          420         Urgent   \n9999              Aetna    37223.965865          290      Emergency   \n\n     Discharge Date   Medication  Test Results  \n0        2022-12-01      Aspirin  Inconclusive  \n1        2023-06-15      Lipitor        Normal  \n2        2019-02-08      Lipitor        Normal  \n3        2020-05-03   Penicillin      Abnormal  \n4        2021-08-02  Paracetamol        Normal  \n...             ...          ...           ...  \n9995     2022-08-02    Ibuprofen      Abnormal  \n9996     2022-01-29    Ibuprofen        Normal  \n9997     2022-07-15    Ibuprofen        Normal  \n9998     2020-02-26   Penicillin        Normal  \n9999     2023-04-15   Penicillin      Abnormal  \n\n[10000 rows x 15 columns]",
      "text/html": "<div>\n<style scoped>\n    .dataframe tbody tr th:only-of-type {\n        vertical-align: middle;\n    }\n\n    .dataframe tbody tr th {\n        vertical-align: top;\n    }\n\n    .dataframe thead th {\n        text-align: right;\n    }\n</style>\n<table border=\"1\" class=\"dataframe\">\n  <thead>\n    <tr style=\"text-align: right;\">\n      <th></th>\n      <th>Name</th>\n      <th>Age</th>\n      <th>Gender</th>\n      <th>Blood Type</th>\n      <th>Medical Condition</th>\n      <th>Date of Admission</th>\n      <th>Doctor</th>\n      <th>Hospital</th>\n      <th>Insurance Provider</th>\n      <th>Billing Amount</th>\n      <th>Room Number</th>\n      <th>Admission Type</th>\n      <th>Discharge Date</th>\n      <th>Medication</th>\n      <th>Test Results</th>\n    </tr>\n  </thead>\n  <tbody>\n    <tr>\n      <th>0</th>\n      <td>Tiffany Ramirez</td>\n      <td>81</td>\n      <td>Female</td>\n      <td>O-</td>\n      <td>Diabetes</td>\n      <td>2022-11-17</td>\n      <td>Patrick Parker</td>\n      <td>Wallace-Hamilton</td>\n      <td>Medicare</td>\n      <td>37490.983364</td>\n      <td>146</td>\n      <td>Elective</td>\n      <td>2022-12-01</td>\n      <td>Aspirin</td>\n      <td>Inconclusive</td>\n    </tr>\n    <tr>\n      <th>1</th>\n      <td>Ruben Burns</td>\n      <td>35</td>\n      <td>Male</td>\n      <td>O+</td>\n      <td>Asthma</td>\n      <td>2023-06-01</td>\n      <td>Diane Jackson</td>\n      <td>Burke, Griffin and Cooper</td>\n      <td>UnitedHealthcare</td>\n      <td>47304.064845</td>\n      <td>404</td>\n      <td>Emergency</td>\n      <td>2023-06-15</td>\n      <td>Lipitor</td>\n      <td>Normal</td>\n    </tr>\n    <tr>\n      <th>2</th>\n      <td>Chad Byrd</td>\n      <td>61</td>\n      <td>Male</td>\n      <td>B-</td>\n      <td>Obesity</td>\n      <td>2019-01-09</td>\n      <td>Paul Baker</td>\n      <td>Walton LLC</td>\n      <td>Medicare</td>\n      <td>36874.896997</td>\n      <td>292</td>\n      <td>Emergency</td>\n      <td>2019-02-08</td>\n      <td>Lipitor</td>\n      <td>Normal</td>\n    </tr>\n    <tr>\n      <th>3</th>\n      <td>Antonio Frederick</td>\n      <td>49</td>\n      <td>Male</td>\n      <td>B-</td>\n      <td>Asthma</td>\n      <td>2020-05-02</td>\n      <td>Brian Chandler</td>\n      <td>Garcia Ltd</td>\n      <td>Medicare</td>\n      <td>23303.322092</td>\n      <td>480</td>\n      <td>Urgent</td>\n      <td>2020-05-03</td>\n      <td>Penicillin</td>\n      <td>Abnormal</td>\n    </tr>\n    <tr>\n      <th>4</th>\n      <td>Mrs. Brandy Flowers</td>\n      <td>51</td>\n      <td>Male</td>\n      <td>O-</td>\n      <td>Arthritis</td>\n      <td>2021-07-09</td>\n      <td>Dustin Griffin</td>\n      <td>Jones, Brown and Murray</td>\n      <td>UnitedHealthcare</td>\n      <td>18086.344184</td>\n      <td>477</td>\n      <td>Urgent</td>\n      <td>2021-08-02</td>\n      <td>Paracetamol</td>\n      <td>Normal</td>\n    </tr>\n    <tr>\n      <th>...</th>\n      <td>...</td>\n      <td>...</td>\n      <td>...</td>\n      <td>...</td>\n      <td>...</td>\n      <td>...</td>\n      <td>...</td>\n      <td>...</td>\n      <td>...</td>\n      <td>...</td>\n      <td>...</td>\n      <td>...</td>\n      <td>...</td>\n      <td>...</td>\n      <td>...</td>\n    </tr>\n    <tr>\n      <th>9995</th>\n      <td>James Hood</td>\n      <td>83</td>\n      <td>Male</td>\n      <td>A+</td>\n      <td>Obesity</td>\n      <td>2022-07-29</td>\n      <td>Samuel Moody</td>\n      <td>Wood, Martin and Simmons</td>\n      <td>UnitedHealthcare</td>\n      <td>39606.840083</td>\n      <td>110</td>\n      <td>Elective</td>\n      <td>2022-08-02</td>\n      <td>Ibuprofen</td>\n      <td>Abnormal</td>\n    </tr>\n    <tr>\n      <th>9996</th>\n      <td>Stephanie Evans</td>\n      <td>47</td>\n      <td>Female</td>\n      <td>AB+</td>\n      <td>Arthritis</td>\n      <td>2022-01-06</td>\n      <td>Christopher Yates</td>\n      <td>Nash-Krueger</td>\n      <td>Blue Cross</td>\n      <td>5995.717488</td>\n      <td>244</td>\n      <td>Emergency</td>\n      <td>2022-01-29</td>\n      <td>Ibuprofen</td>\n      <td>Normal</td>\n    </tr>\n    <tr>\n      <th>9997</th>\n      <td>Christopher Martinez</td>\n      <td>54</td>\n      <td>Male</td>\n      <td>B-</td>\n      <td>Arthritis</td>\n      <td>2022-07-01</td>\n      <td>Robert Nicholson</td>\n      <td>Larson and Sons</td>\n      <td>Blue Cross</td>\n      <td>49559.202905</td>\n      <td>312</td>\n      <td>Elective</td>\n      <td>2022-07-15</td>\n      <td>Ibuprofen</td>\n      <td>Normal</td>\n    </tr>\n    <tr>\n      <th>9998</th>\n      <td>Amanda Duke</td>\n      <td>84</td>\n      <td>Male</td>\n      <td>A+</td>\n      <td>Arthritis</td>\n      <td>2020-02-06</td>\n      <td>Jamie Lewis</td>\n      <td>Wilson-Lyons</td>\n      <td>UnitedHealthcare</td>\n      <td>25236.344761</td>\n      <td>420</td>\n      <td>Urgent</td>\n      <td>2020-02-26</td>\n      <td>Penicillin</td>\n      <td>Normal</td>\n    </tr>\n    <tr>\n      <th>9999</th>\n      <td>Eric King</td>\n      <td>20</td>\n      <td>Male</td>\n      <td>B-</td>\n      <td>Arthritis</td>\n      <td>2023-03-22</td>\n      <td>Tasha Avila</td>\n      <td>Torres, Young and Stewart</td>\n      <td>Aetna</td>\n      <td>37223.965865</td>\n      <td>290</td>\n      <td>Emergency</td>\n      <td>2023-04-15</td>\n      <td>Penicillin</td>\n      <td>Abnormal</td>\n    </tr>\n  </tbody>\n</table>\n<p>10000 rows × 15 columns</p>\n</div>"
     },
     "execution_count": 7,
     "metadata": {},
     "output_type": "execute_result"
    }
   ],
   "source": [
    "data"
   ],
   "metadata": {
    "collapsed": false,
    "ExecuteTime": {
     "end_time": "2024-01-29T19:01:36.091126500Z",
     "start_time": "2024-01-29T19:01:36.063949500Z"
    }
   },
   "id": "738e6b62ad22a92f",
   "execution_count": 7
  },
  {
   "cell_type": "code",
   "outputs": [
    {
     "name": "stdout",
     "output_type": "stream",
     "text": [
      "<class 'pandas.core.frame.DataFrame'>\n",
      "RangeIndex: 10000 entries, 0 to 9999\n",
      "Data columns (total 15 columns):\n",
      " #   Column              Non-Null Count  Dtype  \n",
      "---  ------              --------------  -----  \n",
      " 0   Name                10000 non-null  object \n",
      " 1   Age                 10000 non-null  int64  \n",
      " 2   Gender              10000 non-null  object \n",
      " 3   Blood Type          10000 non-null  object \n",
      " 4   Medical Condition   10000 non-null  object \n",
      " 5   Date of Admission   10000 non-null  object \n",
      " 6   Doctor              10000 non-null  object \n",
      " 7   Hospital            10000 non-null  object \n",
      " 8   Insurance Provider  10000 non-null  object \n",
      " 9   Billing Amount      10000 non-null  float64\n",
      " 10  Room Number         10000 non-null  int64  \n",
      " 11  Admission Type      10000 non-null  object \n",
      " 12  Discharge Date      10000 non-null  object \n",
      " 13  Medication          10000 non-null  object \n",
      " 14  Test Results        10000 non-null  object \n",
      "dtypes: float64(1), int64(2), object(12)\n",
      "memory usage: 1.1+ MB\n"
     ]
    }
   ],
   "source": [
    "data.info()"
   ],
   "metadata": {
    "collapsed": false,
    "ExecuteTime": {
     "end_time": "2024-01-29T19:01:45.189046Z",
     "start_time": "2024-01-29T19:01:45.165655100Z"
    }
   },
   "id": "2b6e3764401cb0fd",
   "execution_count": 8
  },
  {
   "cell_type": "code",
   "outputs": [
    {
     "data": {
      "text/plain": "                Age  Billing Amount   Room Number\ncount  10000.000000    10000.000000  10000.000000\nmean      51.452200    25516.806778    300.082000\nstd       19.588974    14067.292709    115.806027\nmin       18.000000     1000.180837    101.000000\n25%       35.000000    13506.523967    199.000000\n50%       52.000000    25258.112566    299.000000\n75%       68.000000    37733.913727    400.000000\nmax       85.000000    49995.902283    500.000000",
      "text/html": "<div>\n<style scoped>\n    .dataframe tbody tr th:only-of-type {\n        vertical-align: middle;\n    }\n\n    .dataframe tbody tr th {\n        vertical-align: top;\n    }\n\n    .dataframe thead th {\n        text-align: right;\n    }\n</style>\n<table border=\"1\" class=\"dataframe\">\n  <thead>\n    <tr style=\"text-align: right;\">\n      <th></th>\n      <th>Age</th>\n      <th>Billing Amount</th>\n      <th>Room Number</th>\n    </tr>\n  </thead>\n  <tbody>\n    <tr>\n      <th>count</th>\n      <td>10000.000000</td>\n      <td>10000.000000</td>\n      <td>10000.000000</td>\n    </tr>\n    <tr>\n      <th>mean</th>\n      <td>51.452200</td>\n      <td>25516.806778</td>\n      <td>300.082000</td>\n    </tr>\n    <tr>\n      <th>std</th>\n      <td>19.588974</td>\n      <td>14067.292709</td>\n      <td>115.806027</td>\n    </tr>\n    <tr>\n      <th>min</th>\n      <td>18.000000</td>\n      <td>1000.180837</td>\n      <td>101.000000</td>\n    </tr>\n    <tr>\n      <th>25%</th>\n      <td>35.000000</td>\n      <td>13506.523967</td>\n      <td>199.000000</td>\n    </tr>\n    <tr>\n      <th>50%</th>\n      <td>52.000000</td>\n      <td>25258.112566</td>\n      <td>299.000000</td>\n    </tr>\n    <tr>\n      <th>75%</th>\n      <td>68.000000</td>\n      <td>37733.913727</td>\n      <td>400.000000</td>\n    </tr>\n    <tr>\n      <th>max</th>\n      <td>85.000000</td>\n      <td>49995.902283</td>\n      <td>500.000000</td>\n    </tr>\n  </tbody>\n</table>\n</div>"
     },
     "execution_count": 9,
     "metadata": {},
     "output_type": "execute_result"
    }
   ],
   "source": [
    "data.describe()"
   ],
   "metadata": {
    "collapsed": false,
    "ExecuteTime": {
     "end_time": "2024-01-29T19:01:56.371326800Z",
     "start_time": "2024-01-29T19:01:56.333373400Z"
    }
   },
   "id": "72882eeea1afe605",
   "execution_count": 9
  },
  {
   "cell_type": "code",
   "outputs": [],
   "source": [],
   "metadata": {
    "collapsed": false
   },
   "id": "718164af643e74bf"
  }
 ],
 "metadata": {
  "kernelspec": {
   "display_name": "Python 3",
   "language": "python",
   "name": "python3"
  },
  "language_info": {
   "codemirror_mode": {
    "name": "ipython",
    "version": 2
   },
   "file_extension": ".py",
   "mimetype": "text/x-python",
   "name": "python",
   "nbconvert_exporter": "python",
   "pygments_lexer": "ipython2",
   "version": "2.7.6"
  }
 },
 "nbformat": 4,
 "nbformat_minor": 5
}
